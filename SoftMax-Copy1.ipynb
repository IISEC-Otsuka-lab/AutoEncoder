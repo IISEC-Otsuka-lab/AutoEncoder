{
 "cells": [
  {
   "cell_type": "code",
   "execution_count": 7,
   "metadata": {},
   "outputs": [],
   "source": [
    "import numpy as np\n",
    "import seaborn as sns\n",
    "import matplotlib.pyplot as plt\n",
    "\n",
    "from keras.utils import np_utils\n",
    "from keras.preprocessing.image import ImageDataGenerator\n",
    "from keras.models import Sequential,Model,model_from_json\n",
    "from keras.layers import Dense, Dropout, Activation, Flatten,Input,Dense, Conv2D, MaxPooling2D, UpSampling2D\n",
    "from keras.optimizers import Adam\n",
    "import glob\n",
    "from PIL import Image\n",
    "from PIL import ImageOps\n",
    "from keras import backend as K\n",
    "from keras.callbacks import TensorBoard\n",
    "import h5py\n",
    "from keras.preprocessing import image\n",
    "from keras.preprocessing.image import img_to_array\n",
    "from scipy.spatial.distance import cosine"
   ]
  },
  {
   "cell_type": "code",
   "execution_count": 8,
   "metadata": {
    "scrolled": true
   },
   "outputs": [
    {
     "name": "stdout",
     "output_type": "stream",
     "text": [
      "hai\n",
      "Train on 1218 samples, validate on 1218 samples\n",
      "Epoch 1/3\n",
      "1218/1218 [==============================] - 16s - loss: 2.6462 - val_loss: 1.4864\n",
      "Epoch 2/3\n",
      "1218/1218 [==============================] - 17s - loss: 1.3593 - val_loss: 1.1731\n",
      "Epoch 3/3\n",
      "1218/1218 [==============================] - 17s - loss: 1.0502 - val_loss: 0.8389\n",
      "(1218, 56, 56, 3)\n",
      "(56, 56, 3)\n"
     ]
    },
    {
     "data": {
      "image/png": "[encoded data removed]",
      "text/plain": [
       "<matplotlib.figure.Figure at 0x7ff851b1dc88>"
      ]
     },
     "metadata": {},
     "output_type": "display_data"
    },
    {
     "data": {
      "image/png": "[encoded data removed]",
      "text/plain": [
       "<matplotlib.figure.Figure at 0x7ff6a3a021d0>"
      ]
     },
     "metadata": {},
     "output_type": "display_data"
    }
   ],
   "source": [
    "from keras.layers import Dense, Dropout, Activation, Flatten,Input\n",
    "color = 3;\n",
    "def dog_data_load():\n",
    "    print(\"hai\")\n",
    "    list = glob.glob('../dog/*')\n",
    "    linumber = 1;\n",
    "    \n",
    "    image_li = np.empty((0,56,56,color), dtype=np.uint8)\n",
    "    \n",
    "    for i in list:\n",
    "        #print(linumber)\n",
    "        im = Image.open(i).resize((56,56))\n",
    "        #print(im.shape)\n",
    "        #im = im.convert(\"L\")\n",
    "        #print(im.shape)\n",
    "        im_reading = np.array(im)\n",
    "        \n",
    "        #im_list = np.asarray(im_reading)\n",
    " \n",
    "        #print(\"変換前\")\n",
    "        #print( im_reading.shape)\n",
    "       \n",
    "        #print(\"変換後\")\n",
    "        #print(im_reading.shape)\n",
    "        \n",
    "        image_li = np.append(image_li, [im_reading], axis=0)\n",
    "        #print(image_li.shape)\n",
    "        #print(\"korekore\")\n",
    "        #出力形式は(枚数, 1, 50, 50)\n",
    "        #print(image_li.shape)\n",
    "        linumber+=1\n",
    "    return (image_li,image_li),(image_li,image_li)\n",
    "\n",
    "hidden_layer1 = 256\n",
    "hidden_layer2 = 64\n",
    "hidden_layer3 = 3 # because you have 10 categories  \n",
    "#encoding_dim = 32\n",
    "input_img = Input(shape=(56,56,color))\n",
    "x = Conv2D(48, (3, 3), activation='relu', padding='same')(input_img)\n",
    "x = MaxPooling2D((2, 2), padding='same')(x)\n",
    "x = Conv2D(48, (3, 3), activation='relu', padding='same')(x)\n",
    "x = MaxPooling2D((2, 2), padding='same')(x)\n",
    "x = Conv2D(24, (3, 3), activation='relu', padding='same')(x)\n",
    "x = MaxPooling2D((2, 2), padding='same')(x)\n",
    "x = Conv2D(3, (3, 3), activation='relu', padding='same')(x)\n",
    "x = Dense(hidden_layer1, activation='relu')(x)\n",
    "x = Dense(hidden_layer2, activation='relu')(x)\n",
    "encoded = Dense(hidden_layer3, activation='softmax',name=\"softdog\")(x)\n",
    "\n",
    "encoder = Model(input_img,encoded)\n",
    "\n",
    "# at this point the representation is (4, 4, 8) i.e. 128-dimensional\n",
    "x = Dense(hidden_layer2, activation='relu')(encoded)\n",
    "x = Dense(hidden_layer1, activation='relu')(x)\n",
    "x = Conv2D(3, (3, 3), activation='relu', padding='same')(x)\n",
    "x = UpSampling2D((2, 2))(x)\n",
    "x = Conv2D(24, (3, 3), activation='relu', padding='same')(x)\n",
    "x = UpSampling2D((2, 2))(x)\n",
    "x = Conv2D(48, (3, 3), activation='relu',padding='same')(x)\n",
    "x = UpSampling2D((2, 2))(x)\n",
    "x = Conv2D(48, (3, 3), activation='relu',padding='same')(x)\n",
    "decoded = Conv2D(3, (3, 3), activation='relu', padding='same',name=\"softdog2\")(x)\n",
    "\n",
    "\n",
    "autoencoder = Model(input_img, decoded)\n",
    "AE_model = autoencoder\n",
    "autoencoder.compile(optimizer='adadelta', loss='binary_crossentropy')\n",
    "\n",
    "(x_train, y_train),(x_test,y_test) = dog_data_load()\n",
    "x_train = x_train.astype('float32') / 255.\n",
    "x_test = x_test.astype('float32') / 255.\n",
    "\n",
    "\n",
    "x_train = np.reshape(x_train,(len(x_train),56,56,color))\n",
    "x_test = np.reshape(x_test,(len(x_test),56,56,color))\n",
    "\n",
    "history = autoencoder.fit(x_train, x_train,\n",
    "                epochs=3,\n",
    "                batch_size=256,\n",
    "                shuffle=True,\n",
    "                validation_data=(x_test, x_test),\n",
    "                callbacks=[TensorBoard(log_dir='./tmp/autoencoder')]\n",
    "               )\n",
    "\n",
    "#精度をグラフに表示\n",
    "loss = history.history['loss']\n",
    "val_loss = history.history['val_loss']\n",
    "nb_epoch = len(loss)\n",
    "plt.plot(range(nb_epoch), loss, marker='.', label='loss')\n",
    "plt.plot(range(nb_epoch), val_loss, marker='.', label='val_loss')\n",
    "plt.legend(loc='best', fontsize=10)\n",
    "plt.grid()\n",
    "plt.xlabel('epoch')\n",
    "plt.ylabel('loss')\n",
    "\n",
    "decoded_imgs = autoencoder.predict(x_test,batch_size=256)\n",
    "print(decoded_imgs.shape)\n",
    "dog_features = decoded_imgs.flatten().tolist()\n",
    "print(decoded_imgs[1].shape)\n",
    "# 何個表示するか\n",
    "n = 10\n",
    "plt.figure(figsize=(20, 4))\n",
    "for i in range(n):\n",
    "    # 変換された画像を表示\n",
    "    ax = plt.subplot(2, n, i+1+n)\n",
    "    plt.imshow(decoded_imgs[i].reshape(56, 56,color))\n",
    "    ax.get_xaxis().set_visible(False)\n",
    "    ax.get_yaxis().set_visible(False)\n",
    "plt.show()\n",
    "\n",
    "\n",
    "autoencoder.save_weights('AE_Softmax.h5')"
   ]
  },
  {
   "cell_type": "code",
   "execution_count": 9,
   "metadata": {},
   "outputs": [
    {
     "name": "stdout",
     "output_type": "stream",
     "text": [
      "(1, 56, 56, 3)\n"
     ]
    },
    {
     "data": {
      "image/png": "[encoded data removed]",
      "text/plain": [
       "<matplotlib.figure.Figure at 0x7ff851aec9b0>"
      ]
     },
     "metadata": {},
     "output_type": "display_data"
    },
    {
     "data": {
      "text/plain": [
       "<matplotlib.image.AxesImage at 0x7ff6a17bacf8>"
      ]
     },
     "execution_count": 9,
     "metadata": {},
     "output_type": "execute_result"
    }
   ],
   "source": [
    "Test_image = '../test/main_53914_ccd62_detail.jpg'\n",
    "Test_img = image.load_img(Test_image,target_size=(56,56))\n",
    "Tx = img_to_array(Test_img)\n",
    "Tx_= np.expand_dims(Tx,axis=0)\n",
    "print(Tx_.shape)\n",
    "Ima_score = AE_model.predict(Tx_,batch_size=32)\n",
    "ax = plt.subplot(2, n, i+1+n)\n",
    "plt.imshow(Ima_score.reshape(56, 56,color))\n",
    "ax.get_xaxis().set_visible(False)\n",
    "ax.get_yaxis().set_visible(False)\n",
    "plt.show()\n",
    "\n",
    "\n",
    "AE_Model =AE_model.load_weights('AE_Softmax.h5')\n",
    "model = Model(AE_model.input,AE_model.get_layer('softdog2').output)\n",
    "features = model.predict(Tx_)\n",
    "features = features.flatten().tolist()\n",
    "Ima_score = AE_model.predict(Tx_,batch_size=32)\n",
    "plt.imshow(Ima_score.reshape(56, 56,color))\n",
    "\n"
   ]
  }
 ],
 "metadata": {
  "kernelspec": {
   "display_name": "Python 3",
   "language": "python",
   "name": "python3"
  },
  "language_info": {
   "codemirror_mode": {
    "name": "ipython",
    "version": 3
   },
   "file_extension": ".py",
   "mimetype": "text/x-python",
   "name": "python",
   "nbconvert_exporter": "python",
   "pygments_lexer": "ipython3",
   "version": "3.5.2"
  }
 },
 "nbformat": 4,
 "nbformat_minor": 2
}
